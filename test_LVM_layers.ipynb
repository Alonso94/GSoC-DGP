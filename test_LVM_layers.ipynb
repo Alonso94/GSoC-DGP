{
  "nbformat": 4,
  "nbformat_minor": 0,
  "metadata": {
    "colab": {
      "name": "test_LVM_layers.ipynb",
      "version": "0.3.2",
      "provenance": [],
      "collapsed_sections": [],
      "include_colab_link": true
    },
    "kernelspec": {
      "name": "python3",
      "display_name": "Python 3"
    }
  },
  "cells": [
    {
      "cell_type": "markdown",
      "metadata": {
        "id": "view-in-github",
        "colab_type": "text"
      },
      "source": [
        "<a href=\"https://colab.research.google.com/github/Alonso94/GSoC-DGP/blob/master/test_LVM_layers.ipynb\" target=\"_parent\"><img src=\"https://colab.research.google.com/assets/colab-badge.svg\" alt=\"Open In Colab\"/></a>"
      ]
    },
    {
      "cell_type": "code",
      "metadata": {
        "id": "pTFW0R7LrmW5",
        "colab_type": "code",
        "outputId": "b5406c2c-008d-4a98-d29d-7472dc267f92",
        "colab": {
          "base_uri": "https://localhost:8080/",
          "height": 34
        }
      },
      "source": [
        "import numpy as np\n",
        "import tensorflow as tf\n",
        "import tensorflow_probability as tfp\n",
        "from mpl_toolkits.mplot3d import Axes3D\n",
        "from tensorflow_probability import distributions as tfd\n",
        "from tensorflow_probability import positive_semidefinite_kernels as tfk\n",
        "\n",
        "%pylab inline\n",
        "plt.rcParams['axes.facecolor']='white'\n",
        "%config InlineBackend.figure_format=\"png\""
      ],
      "execution_count": 0,
      "outputs": [
        {
          "output_type": "stream",
          "text": [
            "Populating the interactive namespace from numpy and matplotlib\n"
          ],
          "name": "stdout"
        }
      ]
    },
    {
      "cell_type": "code",
      "metadata": {
        "id": "K7j5heiFrq-t",
        "colab_type": "code",
        "colab": {}
      },
      "source": [
        "sess=tf.InteractiveSession()"
      ],
      "execution_count": 0,
      "outputs": []
    },
    {
      "cell_type": "code",
      "metadata": {
        "id": "5WlzYSgtrtF8",
        "colab_type": "code",
        "outputId": "3dbaead8-bdd2-43bc-e7e0-0f0803b2b41e",
        "colab": {
          "base_uri": "https://localhost:8080/",
          "height": 269
        }
      },
      "source": [
        "# test matplot\n",
        "plt.figure(figsize=(12,4))\n",
        "x=np.linspace(-1.25,1.25,200)\n",
        "y= np.sin(3*np.pi*x)\n",
        "plt.plot(x,y)\n",
        "plt.show()"
      ],
      "execution_count": 0,
      "outputs": [
        {
          "output_type": "display_data",
          "data": {
            "image/png": "[encoded data removed]",
            "text/plain": [
              "<Figure size 864x288 with 1 Axes>"
            ]
          },
          "metadata": {
            "tags": []
          }
        }
      ]
    },
    {
      "cell_type": "code",
      "metadata": {
        "id": "o9xBRiyZFws9",
        "colab_type": "code",
        "colab": {}
      },
      "source": [
        "class Layer:\n",
        "  # input size for the next layers will be equal to the latent variable size of the previous layer\n",
        "  def __init__(input_size, output_size, limit=1.25,\n",
        "               a_initial_val=1, ls_initial_val=1, obs_nv_initial_val=1, \n",
        "               learning_rate=0.1):\n",
        "    # generate training variable of the layer\n",
        "    # a - amplitude\n",
        "    # ls - length scale\n",
        "    # obs_nv - observation noise variance\n",
        "    # these variables will be optimized during the training\n",
        "\n",
        "    # finfo : Machine limits for floating point types\n",
        "    # tiny : The smallest positive usable numbe\n",
        "    # softplus: a smooth approximation of a rectifier \n",
        "    # rectifier(x) = max(0,x)\n",
        "    # softplus(x) = log(1+exp(x))\n",
        "    tiny=np.finfo(np.float64).tiny\n",
        "\n",
        "    a_variable=tf.Variable(initial_value=a_initial_val,name=\"amplitude\",dtype=np.float64)\n",
        "    self.a=(tiny + tf.nn.softplus(a_variable))\n",
        "\n",
        "    ls_variable=tf.Variable(initial_value=ls_initial_val,name=\"length_scale\",dtype=np.float64)\n",
        "    self.ls=(tiny + tf.nn.softplus(ls_variable))\n",
        "\n",
        "    obs_nv_variable=tf.Variable(initial_value=obs_nv_initial_val,name=\"observation_noise_variance\",dtype=np.float64)\n",
        "    self.obs_nv=(tiny + tf.nn.softplus(obs_nv_variable))\n",
        "    \n",
        "    # use Exponentiated quadratic kernel\n",
        "    # or could be called squared exponential, Gaussian, or radial basis function\n",
        "    # k(x, y) = amplitude**2 * exp(-||x - y||**2 / (2 * length_scale**2))\n",
        "    self.kernel = tfk.ExponentiatedQuadratic( self.a, self.ls )\n",
        "    \n",
        "    init=np.random.normal(size=(output_size,1))\n",
        "    lat_ind_pts=tf.get_variable(name=\"latent_index_points\",dtype=tf.float64,initializer=init)\n",
        "\n",
        "    self.prior=tfd.GaussianProcess(kernel=kernel, index_points=lat_ind_pts, observation_noise_variance=obs_nv)\n",
        "    \n",
        "    \n",
        "    # define the number of the inducing points\n",
        "    self.num_inducing_points=20\n",
        "\n",
        "    # we have to make trainable inducing points\n",
        "    init_inducing=np.linspace(-limit,limit,num_inducing_points,dtype=np.float64)[...,newaxis]\n",
        "    self.inducing_ind_pts=tf.Variable(init_inducing,dtype=np.float64,name='inducing_index_points')\n",
        "\n",
        "    init_loc=np.zeros([num_inducing_points],dtype=np.float64)\n",
        "    self.variational_ind_obs_loc=tf.Variable(init_loc,name=\"variational_inducing_observations_loc\")\n",
        "\n",
        "    init_scale=np.eye(num_inducing_points,dtype=np.float64)\n",
        "    self.variational_ind_obs_scale=tf.Variable(init_scale,name=\"variational_inducing_observations_scale\")\n",
        "    \n",
        "    # index_points locations over which we will construct the approximate posterior\n",
        "    self.num_predictive_ind_pts=500\n",
        "    self.predictive_index_pts=np.linspace(-limit,limit,num_predictive_ind_pts,dtype=np.float64)[...,np.newaxis]\n",
        "\n",
        "    self.input_placeholder = tf.placeholder(dtype, [input_size, 1], name='layer_input')\n",
        "\n",
        "    # construct the VGP distribution\n",
        "    self.variational_posterior=tfd.VariationalGaussianProcess(kernel=kernel, \n",
        "                                                              index_points=self.input_placeholder,\n",
        "                                                              inducing_index_points=self.inducing_ind_pts,\n",
        "                                                              variational_inducing_observations_loc=self.variational_ind_obs_loc,\n",
        "                                                              variational_inducing_observations_scale=self.variational_ind_obs_scale)\n",
        "    \n",
        "    \n",
        "    # compute the lower bound terms\n",
        "    def loss(self, X, Y):\n",
        "      \n",
        "      # Compute the logprob from the posterior evaluated at latent_sample\n",
        "      ################################################\n",
        "      ##\n",
        "      ##   (Equation 17 - Doubly stochastic DGP paper)\n",
        "      ##\n",
        "      ################################################\n",
        "      self.variational_posterior=sess.run(self.variational_posterior,feed_dict={self.input_placeholder: X})\n",
        "      \n",
        "      all_log_probs = self.variational_posterior.log_prob(Y)\n",
        "      \n",
        "\n",
        "      # Reduce sum over the data dimensions\n",
        "      likelihood_term = tf.reduce_sum(all_log_probs, axis=1)\n",
        "\n",
        "      # Reduce mean over the batch dimensions\n",
        "      likelihood_term = tf.reduce_mean(likelihood_term)\n",
        "\n",
        "      # Compute the KL divergence term\n",
        "      kl_term = self.variational_posterior.kl_divergence(self.prior)\n",
        "\n",
        "      # Reduce over the dimension.\n",
        "      kl_term = tf.reduce_mean(kl_term)\n",
        "      \n",
        "      loss = likelihood_term + kl_term\n",
        "\n",
        "      return loss\n",
        "    \n",
        "  def loss_and_optimize(self,DGP_accumulated_loss,X, Y):\n",
        "    \n",
        "    DGP_accumulated_loss += self.loss(X, Y)\n",
        "    \n",
        "    optimizer = tf.train.AdamOptimizer()\n",
        "    train_op = optimizer.minimize(DGP_accumulated_loss)\n",
        "    \n",
        "    return DGP_accumulated_loss\n",
        "  \n",
        "  def update_prior(self):\n",
        "    self.prior= self.variational_posterior\n",
        "    \n",
        "  def __Call__(self, X):\n",
        "      self.variational_posterior=sess.run(self.variational_posterior,feed_dict={input_placeholder: X})\n",
        "      sample= self.variational_posterior.sample()\n",
        "      return sess.run(sample)\n",
        "     "
      ],
      "execution_count": 0,
      "outputs": []
    },
    {
      "cell_type": "code",
      "metadata": {
        "id": "fAQf7y95L76D",
        "colab_type": "code",
        "colab": {}
      },
      "source": [
        "class DGP:\n",
        "  def __init__(self, input_size, output_size, num_hidden_layers=0, latent_size=20):\n",
        "    \n",
        "    self.input_placeholder = tf.placeholder(dtype, [input_size, 1], name='DGP_input')\n",
        "    self.output_placeholder = tf.placeholder(dtype, [input_size, 1], name='DGP_input')\n",
        "    \n",
        "    self.input_size=input_size\n",
        "    self.output_size=output_size\n",
        "    self.num_hidden_layers=num_hidden_layers\n",
        "    self.latent_size=latent_size\n",
        "    \n",
        "    build_model()\n",
        "    \n",
        "    layers=[]\n",
        "    \n",
        "    self.loss=0\n",
        "    \n",
        "  def build_model(self):\n",
        "    \n",
        "    layers.append(layer(self.input_Size,self.latent_size))\n",
        "    for i in range(self.num_hidden_layers):\n",
        "      layer.append(layer(self.latent_size,self.latent_size))\n",
        "    layers.append(layer(self.latent_Size,self.))\n",
        "    \n",
        "  def build_graph(self):\n",
        "    x= self.input_placeholder\n",
        "    for i in range(len(layers)):\n",
        "      x=layers[i](x)\n",
        "    self.output_placeholder=x\n",
        "    \n",
        "  def optimize(self):\n",
        "    x= self.input_placeholder\n",
        "    for i in range(len(layers)):\n",
        "      x=layers[i](x)\n",
        "      self.loss=layers[i].loss_and_optimize(self.loss,x,self.ouput_placeholder)\n",
        "   \n",
        "  def propagate(x):\n",
        "    for i in range(2,len(layers)):\n",
        "      ################################################\n",
        "      ##\n",
        "      ##   (Equation 15 - Doubly stochastic DGP paper)\n",
        "      ##\n",
        "      ################################################\n",
        "      posterior=sess.run(layers[i-1].variational_posterior)\n",
        "      # Draw a sample from the variational posterior\n",
        "      latent_sample = posterior.sample()\n",
        "      first_term=latent_sample.mean()\n",
        "      \n",
        "      cov=np.eye(layer_order,dtype=np.float64)\n",
        "      e=np.random.normal(0,cov)\n",
        "      # TODO check sampe's variance in variational GP class\n",
        "      second_term= np.dot(e,np.sqrt(latent_sample.variance()))\n",
        "      \n",
        "      layer_pred=first_term + second_term\n",
        "    return layer_pred\n",
        "    "
      ],
      "execution_count": 0,
      "outputs": []
    }
  ]
}