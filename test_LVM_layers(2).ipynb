{
  "nbformat": 4,
  "nbformat_minor": 0,
  "metadata": {
    "colab": {
      "name": "test_LVM_layers(2).ipynb",
      "version": "0.3.2",
      "provenance": [],
      "collapsed_sections": [],
      "include_colab_link": true
    },
    "kernelspec": {
      "display_name": "Python 3",
      "language": "python",
      "name": "python3"
    },
    "language_info": {
      "codemirror_mode": {
        "name": "ipython",
        "version": 3
      },
      "file_extension": ".py",
      "mimetype": "text/x-python",
      "name": "python",
      "nbconvert_exporter": "python",
      "pygments_lexer": "ipython3",
      "version": "3.6.8"
    }
  },
  "cells": [
    {
      "cell_type": "markdown",
      "metadata": {
        "id": "view-in-github",
        "colab_type": "text"
      },
      "source": [
        "<a href=\"https://colab.research.google.com/github/Alonso94/GSoC-DGP/blob/master/test_LVM_layers(2).ipynb\" target=\"_parent\"><img src=\"https://colab.research.google.com/assets/colab-badge.svg\" alt=\"Open In Colab\"/></a>"
      ]
    },
    {
      "cell_type": "code",
      "metadata": {
        "colab_type": "code",
        "id": "pTFW0R7LrmW5",
        "outputId": "edb8bb6d-cd5b-4b46-c345-d56e354c3e28",
        "colab": {
          "base_uri": "https://localhost:8080/",
          "height": 34
        }
      },
      "source": [
        "import numpy as np\n",
        "import tensorflow as tf\n",
        "import tensorflow_probability as tfp\n",
        "from mpl_toolkits.mplot3d import Axes3D\n",
        "from tensorflow_probability import distributions as tfd\n",
        "from tensorflow_probability import positive_semidefinite_kernels as tfk\n",
        "\n",
        "%pylab inline\n",
        "plt.rcParams['axes.facecolor']='white'\n",
        "%config InlineBackend.figure_format=\"png\""
      ],
      "execution_count": 0,
      "outputs": [
        {
          "output_type": "stream",
          "text": [
            "Populating the interactive namespace from numpy and matplotlib\n"
          ],
          "name": "stdout"
        }
      ]
    },
    {
      "cell_type": "code",
      "metadata": {
        "colab_type": "code",
        "id": "K7j5heiFrq-t",
        "colab": {}
      },
      "source": [
        "#sess=tf.InteractiveSession()\n",
        "dtype=np.float64"
      ],
      "execution_count": 0,
      "outputs": []
    },
    {
      "cell_type": "code",
      "metadata": {
        "colab_type": "code",
        "id": "5WlzYSgtrtF8",
        "outputId": "a3813042-386d-483d-d3a9-d768ff45e2a8",
        "colab": {
          "base_uri": "https://localhost:8080/",
          "height": 269
        }
      },
      "source": [
        "# test matplot\n",
        "plt.figure(figsize=(12,4))\n",
        "x=np.linspace(-1.25,1.25,200)\n",
        "y= np.sin(3*np.pi*x)\n",
        "plt.plot(x,y)\n",
        "plt.show()"
      ],
      "execution_count": 0,
      "outputs": [
        {
          "output_type": "display_data",
          "data": {
            "image/png": "[encoded data removed]",
            "text/plain": [
              "<Figure size 864x288 with 1 Axes>"
            ]
          },
          "metadata": {
            "tags": [],
            "needs_background": "light"
          }
        }
      ]
    },
    {
      "cell_type": "code",
      "metadata": {
        "colab_type": "code",
        "id": "o9xBRiyZFws9",
        "colab": {}
      },
      "source": [
        "layer_count=0\n",
        "DGP_count=0\n",
        "class Layer:\n",
        "    prior=None\n",
        "    # input size for the next layers will be equal to the latent variable size of the previous layer\n",
        "    def __init__(self, sess, input_size, output_size, DGP_output_size, input_layer=False, limit=1.25,\n",
        "               a_initial_val=1, ls_initial_val=1, obs_nv_initial_val=1, \n",
        "               learning_rate=0.1):\n",
        "        global layer_count\n",
        "        layer_count+=1;\n",
        "        global DGP_count\n",
        "        with tf.variable_scope(\"DGP_{}_layer_{}\".format(DGP_count,layer_count)):\n",
        "            # generate training variable of the layer\n",
        "            # a - amplitude\n",
        "            # ls - length scale\n",
        "            # obs_nv - observation noise variance\n",
        "            # these variables will be optimized during the training\n",
        "\n",
        "            # finfo : Machine limits for floating point types\n",
        "            # tiny : The smallest positive usable numbe\n",
        "            # softplus: a smooth approximation of a rectifier \n",
        "            # rectifier(x) = max(0,x)\n",
        "            # softplus(x) = log(1+exp(x))\n",
        "            tiny=np.finfo(np.float64).tiny\n",
        "\n",
        "            a_variable=tf.Variable(initial_value=a_initial_val,name=\"amplitude\",dtype=np.float64)\n",
        "            self.a=(tiny + tf.nn.softplus(a_variable))\n",
        "\n",
        "            ls_variable=tf.Variable(initial_value=ls_initial_val,name=\"length_scale\",dtype=np.float64)\n",
        "            self.ls=(tiny + tf.nn.softplus(ls_variable))\n",
        "\n",
        "            obs_nv_variable=tf.Variable(initial_value=obs_nv_initial_val,name=\"observation_noise_variance\",dtype=np.float64)\n",
        "            self.obs_nv=(tiny + tf.nn.softplus(obs_nv_variable))\n",
        "\n",
        "            # use Exponentiated quadratic kernel\n",
        "            # or could be called squared exponential, Gaussian, or radial basis function\n",
        "            # k(x, y) = amplitude**2 * exp(-||x - y||**2 / (2 * length_scale**2))\n",
        "            self.kernel = tfk.ExponentiatedQuadratic( self.a, self.ls )\n",
        "            \n",
        "            init=np.random.random(size=(output_size,1))\n",
        "            self.latent_index_points=tf.Variable(init, name=\"latnent_inducing_points\")\n",
        "            \n",
        "            # define the number of the inducing points\n",
        "            self.num_inducing_points=200\n",
        "\n",
        "            # we have to make trainable inducing points\n",
        "            init_inducing=np.linspace(-limit,limit,self.num_inducing_points,dtype=np.float64)[...,newaxis]\n",
        "            self.inducing_ind_pts=tf.Variable(init_inducing,dtype=np.float64,name='inducing_index_points')\n",
        "\n",
        "            init_loc=np.zeros([self.num_inducing_points],dtype=np.float64)\n",
        "            self.variational_ind_obs_loc=tf.Variable(init_loc,name=\"variational_inducing_observations_loc\")\n",
        "\n",
        "            init_scale=np.eye(self.num_inducing_points,dtype=np.float64)\n",
        "            self.variational_ind_obs_scale=tf.Variable(init_scale,name=\"variational_inducing_observations_scale\")\n",
        "\n",
        "            self.input_placeholder = tf.placeholder(dtype, [None,input_size], name='layer_input')\n",
        "            self.output_placeholder = tf.placeholder(dtype, [None,DGP_output_size], name='layer_output')\n",
        "            \n",
        "            \n",
        "            \n",
        "            # construct the VGP distribution\n",
        "            self.variational_posterior=tfd.VariationalGaussianProcess(kernel=self.kernel, \n",
        "                                                                    index_points=self.latent_index_points,\n",
        "                                                                    inducing_index_points=self.inducing_ind_pts,\n",
        "                                                                    variational_inducing_observations_loc=self.variational_ind_obs_loc,\n",
        "                                                                    variational_inducing_observations_scale=self.variational_ind_obs_scale)\n",
        "\n",
        "            #self.prior=self.variational_posterior\n",
        "            \n",
        "            # compute the lower bound terms\n",
        "            # Compute the logprob from the posterior evaluated at latent_sample\n",
        "            ################################################\n",
        "            ##\n",
        "            ##   (Equation 17 - Doubly stochastic DGP paper)\n",
        "            ##\n",
        "            ################################################\n",
        "            #self.variational_posterior=sess.run(self.variational_posterior,feed_dict={self.input_placeholder: X})\n",
        "\n",
        "            all_log_probs = self.variational_posterior.log_prob(self.output_placeholder)\n",
        "\n",
        "            # Reduce sum over the data dimensions\n",
        "            likelihood_term = tf.reduce_sum(all_log_probs, axis=0)\n",
        "\n",
        "            # Reduce mean over the batch dimensions\n",
        "            likelihood_term = tf.reduce_mean(likelihood_term)\n",
        "            \n",
        "            if self.prior is None:\n",
        "                self.prior= self.variational_posterior\n",
        "                \n",
        "            # Compute the KL divergence term\n",
        "            kl_term = self.variational_posterior.kl_divergence(self.prior)\n",
        "\n",
        "            # Reduce over the dimension.\n",
        "            kl_term = tf.reduce_mean(kl_term)\n",
        "\n",
        "            self.loss = likelihood_term - kl_term\n",
        "            \n",
        "            self.loss_placeholder = tf.placeholder(dtype, () ,name='loss_input')\n",
        "\n",
        "            self.DGP_accumulated_loss = self.loss_placeholder + self.loss\n",
        "\n",
        "            optimizer = tf.train.AdamOptimizer()\n",
        "            self.train_op = optimizer.minimize(self.DGP_accumulated_loss)\n",
        "            \n",
        "            self.sample= self.variational_posterior.sample()\n",
        "            \n",
        "            sess.run(tf.initialize_all_variables())  \n",
        "  \n",
        "    def update_prior(self,sess):\n",
        "        self.prior= self.variational_posterior\n",
        "\n",
        "    def __call__(self, sess, feed_dict):\n",
        "        #self.variational_posterior=sess.run(self.variational_posterior,feed_dict={self.input_placeholder: X})\n",
        "        self.sample= self.variational_posterior.sample()\n",
        "        return sess.run(self.sample,feed_dict)\n"
      ],
      "execution_count": 0,
      "outputs": []
    },
    {
      "cell_type": "code",
      "metadata": {
        "colab_type": "code",
        "id": "fAQf7y95L76D",
        "colab": {}
      },
      "source": [
        "class DGP:\n",
        "    def __init__(self, X, Y, num_hidden_layers=2, latent_size=20):\n",
        "        global DGP_count\n",
        "        DGP_count+=1\n",
        "\n",
        "        global layer_cont\n",
        "        layer_count=0\n",
        "\n",
        "        input_size=X.shape[1]\n",
        "        output_size=Y.shape[1]\n",
        "\n",
        "        self.input_size=input_size\n",
        "        self.output_size=output_size\n",
        "        self.num_hidden_layers=num_hidden_layers\n",
        "        self.latent_size=latent_size\n",
        "\n",
        "        self.X=X\n",
        "        self.Y=Y\n",
        "\n",
        "        self.layers=[]\n",
        "        \n",
        "        self.sess=tf.Session()\n",
        "\n",
        "        self.build_model(self.sess)\n",
        "        \n",
        "        self.input_placeholder=tf.placeholder(dtype,[None,1],name=\"DGP_input\")\n",
        "        self.output_placeholder=tf.placeholder(dtype,[None,1],name=\"DGP_output\")\n",
        "        \n",
        "        self.loss=0\n",
        "    \n",
        "    def build_model(self,sess):\n",
        "    \n",
        "        self.layers.append(Layer(sess,self.input_size,self.latent_size,self.output_size))\n",
        "        for i in range(self.num_hidden_layers):\n",
        "            self.layers.append(Layer(sess,self.latent_size,self.latent_size,self.output_size))\n",
        "        self.layers.append(Layer(sess,self.latent_size,self.output_size,self.output_size))\n",
        "    \n",
        "    def optimize(self, X , Y):\n",
        "        x= self.X\n",
        "        for i in range(len(self.layers)):\n",
        "            print(i)\n",
        "            feed_dict={self.layers[i].input_placeholder:x,\n",
        "                       self.layers[i].output_placeholder:Y,\n",
        "                       self.layers[i].loss_placeholder:self.loss}\n",
        "            self.loss=self.sess.run(self.layers[i].DGP_accumulated_loss,feed_dict)\n",
        "            self.sess.run(self.layers[i].train_op,feed_dict)\n",
        "            self.layers[i].update_prior(self.sess)\n",
        "            x=self.sess.run(self.layers[i].sample,feed_dict)\n",
        "            print(x.shape)\n",
        "            x=x.reshape((1,-1))\n",
        "\n",
        "   \n",
        "    def predict(self,X):\n",
        "        Y=[]\n",
        "        for x in X:\n",
        "            f_i=x\n",
        "            print(f_i)\n",
        "            for i in range(len(self.layers)):\n",
        "                ################################################\n",
        "                ##\n",
        "                ##   (Equation 15 - Doubly stochastic DGP paper)\n",
        "                ##\n",
        "                ####### #########################################\n",
        "                f_i=f_i.reshape((-1,1))\n",
        "                posterior=self.layers[i].variational_posterior\n",
        "                # Draw a sample from the variational posterior\n",
        "                latent_sample = posterior.sample()\n",
        "                \n",
        "                lat=self.sess.run(latent_sample,feed_dict={self.layers[i].input_placeholder:f_i})\n",
        "                print(lat.shape)\n",
        "                \n",
        "                mean,var=tf.nn.moments(latent_sample,axes=[0])\n",
        "                covariance=tfp.stats.covariance(latent_sample, latent_sample, sample_axis=0, event_axis=0)\n",
        "\n",
        "                m,v,cov=self.sess.run([mean,var,covariance],feed_dict={self.layers[i].input_placeholder:f_i})\n",
        "\n",
        "                first_term=m\n",
        "\n",
        "                k=np.eye(i,dtype=np.float64)\n",
        "                e=np.random.normal(0,k)\n",
        "                # TODO check sampe's variance in variational GP class\n",
        "                second_term= np.dot(e,np.sqrt(cov))\n",
        "\n",
        "\n",
        "                layer_pred=first_term + second_term\n",
        "                #print(e,np.sqrt(v))\n",
        "                f_i=layer_pred\n",
        "            Y.append(f_i)\n",
        "        return Y\n"
      ],
      "execution_count": 0,
      "outputs": []
    },
    {
      "cell_type": "code",
      "metadata": {
        "colab_type": "code",
        "id": "A3GnCCbZsVLY",
        "outputId": "b0262d6b-ca22-47e6-ea24-007861c47a7b",
        "colab": {
          "base_uri": "https://localhost:8080/",
          "height": 938
        }
      },
      "source": [
        "tf.reset_default_graph()\n",
        "print(x.shape)\n",
        "x=x.reshape((200,1))\n",
        "y=y.reshape((200,1))\n",
        "dgp=DGP(x,y)"
      ],
      "execution_count": 0,
      "outputs": [
        {
          "output_type": "stream",
          "text": [
            "(200, 1)\n"
          ],
          "name": "stdout"
        }
      ]
    },
    {
      "cell_type": "code",
      "metadata": {
        "colab_type": "code",
        "id": "OiVB8Xyxvxl-",
        "colab": {},
        "outputId": "b82a2e18-ae3f-4bd6-ba38-0de7be591a71"
      },
      "source": [
        "dgp.optimize(x,y)"
      ],
      "execution_count": 0,
      "outputs": [
        {
          "output_type": "stream",
          "text": [
            "0\n",
            "(20,)\n",
            "1\n",
            "(20,)\n",
            "2\n",
            "(20,)\n",
            "3\n",
            "(1,)\n"
          ],
          "name": "stdout"
        }
      ]
    },
    {
      "cell_type": "code",
      "metadata": {
        "id": "PGoFqgbSo9sU",
        "colab_type": "code",
        "colab": {},
        "outputId": "1d70194a-d37e-4d61-8627-f0081612bf9c"
      },
      "source": [
        "dgp.predict(x)"
      ],
      "execution_count": 0,
      "outputs": [
        {
          "output_type": "stream",
          "text": [
            "[-1.25]\n",
            "(20,)\n"
          ],
          "name": "stdout"
        },
        {
          "output_type": "error",
          "ename": "ValueError",
          "evalue": "sample_axis ([0]) and event_axis ([0]) overlapped",
          "traceback": [
            "\u001b[0;31m---------------------------------------------------------------------------\u001b[0m",
            "\u001b[0;31mValueError\u001b[0m                                Traceback (most recent call last)",
            "\u001b[0;32m<ipython-input-43-61e8f93ddae9>\u001b[0m in \u001b[0;36m<module>\u001b[0;34m\u001b[0m\n\u001b[0;32m----> 1\u001b[0;31m \u001b[0mdgp\u001b[0m\u001b[0;34m.\u001b[0m\u001b[0mpredict\u001b[0m\u001b[0;34m(\u001b[0m\u001b[0mx\u001b[0m\u001b[0;34m)\u001b[0m\u001b[0;34m\u001b[0m\u001b[0;34m\u001b[0m\u001b[0m\n\u001b[0m",
            "\u001b[0;32m<ipython-input-40-12fd7ad92efd>\u001b[0m in \u001b[0;36mpredict\u001b[0;34m(self, X)\u001b[0m\n\u001b[1;32m     71\u001b[0m \u001b[0;34m\u001b[0m\u001b[0m\n\u001b[1;32m     72\u001b[0m                 \u001b[0mmean\u001b[0m\u001b[0;34m,\u001b[0m\u001b[0mvar\u001b[0m\u001b[0;34m=\u001b[0m\u001b[0mtf\u001b[0m\u001b[0;34m.\u001b[0m\u001b[0mnn\u001b[0m\u001b[0;34m.\u001b[0m\u001b[0mmoments\u001b[0m\u001b[0;34m(\u001b[0m\u001b[0mlatent_sample\u001b[0m\u001b[0;34m,\u001b[0m\u001b[0maxes\u001b[0m\u001b[0;34m=\u001b[0m\u001b[0;34m[\u001b[0m\u001b[0;36m0\u001b[0m\u001b[0;34m]\u001b[0m\u001b[0;34m)\u001b[0m\u001b[0;34m\u001b[0m\u001b[0;34m\u001b[0m\u001b[0m\n\u001b[0;32m---> 73\u001b[0;31m                 \u001b[0mcovariance\u001b[0m\u001b[0;34m=\u001b[0m\u001b[0mtfp\u001b[0m\u001b[0;34m.\u001b[0m\u001b[0mstats\u001b[0m\u001b[0;34m.\u001b[0m\u001b[0mcovariance\u001b[0m\u001b[0;34m(\u001b[0m\u001b[0mlatent_sample\u001b[0m\u001b[0;34m,\u001b[0m \u001b[0mlatent_sample\u001b[0m\u001b[0;34m,\u001b[0m \u001b[0msample_axis\u001b[0m\u001b[0;34m=\u001b[0m\u001b[0;36m0\u001b[0m\u001b[0;34m,\u001b[0m \u001b[0mevent_axis\u001b[0m\u001b[0;34m=\u001b[0m\u001b[0;36m0\u001b[0m\u001b[0;34m)\u001b[0m\u001b[0;34m\u001b[0m\u001b[0;34m\u001b[0m\u001b[0m\n\u001b[0m\u001b[1;32m     74\u001b[0m \u001b[0;34m\u001b[0m\u001b[0m\n\u001b[1;32m     75\u001b[0m                 \u001b[0mm\u001b[0m\u001b[0;34m,\u001b[0m\u001b[0mv\u001b[0m\u001b[0;34m,\u001b[0m\u001b[0mcov\u001b[0m\u001b[0;34m=\u001b[0m\u001b[0mself\u001b[0m\u001b[0;34m.\u001b[0m\u001b[0msess\u001b[0m\u001b[0;34m.\u001b[0m\u001b[0mrun\u001b[0m\u001b[0;34m(\u001b[0m\u001b[0;34m[\u001b[0m\u001b[0mmean\u001b[0m\u001b[0;34m,\u001b[0m\u001b[0mvar\u001b[0m\u001b[0;34m,\u001b[0m\u001b[0mcovariance\u001b[0m\u001b[0;34m]\u001b[0m\u001b[0;34m,\u001b[0m\u001b[0mfeed_dict\u001b[0m\u001b[0;34m=\u001b[0m\u001b[0;34m{\u001b[0m\u001b[0mself\u001b[0m\u001b[0;34m.\u001b[0m\u001b[0mlayers\u001b[0m\u001b[0;34m[\u001b[0m\u001b[0mi\u001b[0m\u001b[0;34m]\u001b[0m\u001b[0;34m.\u001b[0m\u001b[0minput_placeholder\u001b[0m\u001b[0;34m:\u001b[0m\u001b[0mf_i\u001b[0m\u001b[0;34m}\u001b[0m\u001b[0;34m)\u001b[0m\u001b[0;34m\u001b[0m\u001b[0;34m\u001b[0m\u001b[0m\n",
            "\u001b[0;32m~/.local/lib/python3.6/site-packages/tensorflow_probability/python/stats/sample_stats.py\u001b[0m in \u001b[0;36mcovariance\u001b[0;34m(x, y, sample_axis, event_axis, keepdims, name)\u001b[0m\n\u001b[1;32m    374\u001b[0m         raise ValueError(\n\u001b[1;32m    375\u001b[0m             'sample_axis ({}) and event_axis ({}) overlapped'.format(\n\u001b[0;32m--> 376\u001b[0;31m                 sample_axis, event_axis))\n\u001b[0m\u001b[1;32m    377\u001b[0m       \u001b[0;32mif\u001b[0m \u001b[0;34m(\u001b[0m\u001b[0mnp\u001b[0m\u001b[0;34m.\u001b[0m\u001b[0mdiff\u001b[0m\u001b[0;34m(\u001b[0m\u001b[0msorted\u001b[0m\u001b[0;34m(\u001b[0m\u001b[0mevent_axis\u001b[0m\u001b[0;34m)\u001b[0m\u001b[0;34m)\u001b[0m \u001b[0;34m>\u001b[0m \u001b[0;36m1\u001b[0m\u001b[0;34m)\u001b[0m\u001b[0;34m.\u001b[0m\u001b[0many\u001b[0m\u001b[0;34m(\u001b[0m\u001b[0;34m)\u001b[0m\u001b[0;34m:\u001b[0m\u001b[0;34m\u001b[0m\u001b[0;34m\u001b[0m\u001b[0m\n\u001b[1;32m    378\u001b[0m         raise ValueError(\n",
            "\u001b[0;31mValueError\u001b[0m: sample_axis ([0]) and event_axis ([0]) overlapped"
          ]
        }
      ]
    },
    {
      "cell_type": "code",
      "metadata": {
        "id": "VGDCwivDo9sX",
        "colab_type": "code",
        "colab": {}
      },
      "source": [
        ""
      ],
      "execution_count": 0,
      "outputs": []
    }
  ]
}