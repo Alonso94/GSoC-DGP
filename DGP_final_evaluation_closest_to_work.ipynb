{
  "nbformat": 4,
  "nbformat_minor": 0,
  "metadata": {
    "colab": {
      "name": "test_LVM_layers(2).ipynb",
      "version": "0.3.2",
      "provenance": [],
      "collapsed_sections": [],
      "include_colab_link": true
    },
    "kernelspec": {
      "display_name": "Python 3",
      "language": "python",
      "name": "python3"
    },
    "language_info": {
      "codemirror_mode": {
        "name": "ipython",
        "version": 3
      },
      "file_extension": ".py",
      "mimetype": "text/x-python",
      "name": "python",
      "nbconvert_exporter": "python",
      "pygments_lexer": "ipython3",
      "version": "3.6.8"
    }
  },
  "cells": [
    {
      "cell_type": "markdown",
      "metadata": {
        "id": "view-in-github",
        "colab_type": "text"
      },
      "source": [
        "<a href=\"https://colab.research.google.com/github/Alonso94/GSoC-DGP/blob/master/DGP_final_evaluation_closest_to_work.ipynb\" target=\"_parent\"><img src=\"https://colab.research.google.com/assets/colab-badge.svg\" alt=\"Open In Colab\"/></a>"
      ]
    },
    {
      "cell_type": "code",
      "metadata": {
        "colab_type": "code",
        "id": "pTFW0R7LrmW5",
        "outputId": "edb8bb6d-cd5b-4b46-c345-d56e354c3e28",
        "colab": {
          "base_uri": "https://localhost:8080/",
          "height": 34
        }
      },
      "source": [
        "%load_ext tensorboard\n",
        "\n",
        "import numpy as np\n",
        "import tensorflow as tf\n",
        "import tensorflow_probability as tfp\n",
        "from mpl_toolkits.mplot3d import Axes3D\n",
        "from tensorflow_probability import distributions as tfd\n",
        "from tensorflow_probability import positive_semidefinite_kernels as tfk\n",
        "\n",
        "from IPython.display import clear_output\n",
        "\n",
        "%pylab inline\n",
        "plt.rcParams['axes.facecolor']='white'\n",
        "%config InlineBackend.figure_format=\"png\"\n",
        "\n",
        "logdir = \"logs/\"\n",
        "\n",
        "tensorboard_callback = tf.keras.callbacks.TensorBoard(log_dir=logdir)\n"
      ],
      "execution_count": 0,
      "outputs": [
        {
          "output_type": "stream",
          "text": [
            "Populating the interactive namespace from numpy and matplotlib\n"
          ],
          "name": "stdout"
        }
      ]
    },
    {
      "cell_type": "code",
      "metadata": {
        "colab_type": "code",
        "id": "K7j5heiFrq-t",
        "colab": {}
      },
      "source": [
        "#sess=tf.InteractiveSession()\n",
        "dtype=np.float64"
      ],
      "execution_count": 0,
      "outputs": []
    },
    {
      "cell_type": "code",
      "metadata": {
        "colab_type": "code",
        "id": "5WlzYSgtrtF8",
        "outputId": "a3813042-386d-483d-d3a9-d768ff45e2a8",
        "colab": {
          "base_uri": "https://localhost:8080/",
          "height": 269
        }
      },
      "source": [
        "# test matplot\n",
        "plt.figure(figsize=(12,4))\n",
        "x=np.linspace(-1.25,1.25,200)\n",
        "y= np.sin(3*np.pi*x)\n",
        "y=y+np.random.normal(loc=0,scale=np.sqrt(0.1),size=200)\n",
        "plt.plot(x,y,'*')\n",
        "plt.show()"
      ],
      "execution_count": 0,
      "outputs": [
        {
          "output_type": "display_data",
          "data": {
            "image/png": "[encoded data removed]",
            "text/plain": [
              "<Figure size 864x288 with 1 Axes>"
            ]
          },
          "metadata": {
            "tags": [],
            "needs_background": "light"
          }
        }
      ]
    },
    {
      "cell_type": "code",
      "metadata": {
        "colab_type": "code",
        "id": "o9xBRiyZFws9",
        "colab": {}
      },
      "source": [
        "layer_count=0\n",
        "DGP_count=0\n",
        "class Layer:\n",
        "    loss=None\n",
        "    # input size for the next layers will be equal to the latent variable size of the previous layer\n",
        "    def __init__(self, sess, input_size, output_size, DGP_output_size, input_layer=False, limit=1.25,\n",
        "               a_initial_val=2.0, ls_initial_val=2.0, obs_nv_initial_val=1e-5):\n",
        "        # parameter initialization from the paper\n",
        "        global layer_count\n",
        "        layer_count+=1;\n",
        "        global DGP_count\n",
        "        self.output_size=output_size\n",
        "        self.input_size=input_size\n",
        "        self.layer_count=layer_count\n",
        "        with tf.variable_scope(\"DGP_{}_layer_{}\".format(DGP_count,layer_count)):\n",
        "            # generate training variable of the layer\n",
        "            # a - amplitude\n",
        "            # ls - length scale\n",
        "            # obs_nv - observation noise variance\n",
        "            # these variables will be optimized during the training\n",
        "\n",
        "            # finfo : Machine limits for floating point types\n",
        "            # tiny : The smallest positive usable numbe\n",
        "            # softplus: a smooth approximation of a rectifier \n",
        "            # rectifier(x) = max(0,x)\n",
        "            # softplus(x) = log(1+exp(x))\n",
        "            tiny=np.finfo(np.float64).tiny\n",
        "\n",
        "            a_variable=tf.Variable(initial_value=a_initial_val,name=\"amplitude\",dtype=dtype)\n",
        "            self.a=(tiny + tf.nn.softplus(a_variable))\n",
        "\n",
        "            ls_variable=tf.Variable(initial_value=ls_initial_val,name=\"length_scale\",dtype=dtype)\n",
        "            self.ls=(tiny + tf.nn.softplus(ls_variable))\n",
        "\n",
        "            obs_nv_variable=tf.Variable(initial_value=obs_nv_initial_val,name=\"observation_noise_variance\",dtype=dtype)\n",
        "            self.obs_nv=(tiny + tf.nn.softplus(obs_nv_variable))\n",
        "\n",
        "            # use Exponentiated quadratic kernel\n",
        "            # or could be called squared exponential, Gaussian, or radial basis function\n",
        "            # k(x, y) = amplitude**2 * exp(-||x - y||**2 / (2 * length_scale**2))\n",
        "            self.kernel = tfk.ExponentiatedQuadratic( self.a, self.ls )\n",
        "\n",
        "            # define the number of the inducing points\n",
        "            # number of the inducing points from the paper\n",
        "            self.num_inducing_points=100\n",
        "\n",
        "            # we have to make trainable inducing points\n",
        "            init_inducing=np.linspace(-limit,limit,self.num_inducing_points,dtype)[...,newaxis]\n",
        "            self.inducing_ind_pts=tf.Variable(init_inducing,dtype=np.float64,name='inducing_index_points')\n",
        "\n",
        "            init_loc=np.zeros([self.num_inducing_points],dtype=dtype)\n",
        "            self.variational_ind_obs_loc=tf.Variable(init_loc,name=\"variational_inducing_observations_loc\")\n",
        "\n",
        "            init_scale=np.eye(self.num_inducing_points,dtype=dtype)\n",
        "            self.variational_ind_obs_scale=tf.Variable(init_scale,name=\"variational_inducing_observations_scale\")\n",
        "\n",
        "            self.input_placeholder = tf.placeholder(dtype, [None,input_size], name='layer_input')\n",
        "\n",
        "            self.posteriors=[]\n",
        "            self.priors=[]\n",
        "            self.optimizer=[]\n",
        "            self.train_op=[]\n",
        "            self.loss=[0.0]*output_size\n",
        "            \n",
        "            # construct the VGP distribution(s)\n",
        "            for i in range(output_size):\n",
        "                \n",
        "                self.priors.append(tfd.GaussianProcess(kernel=tfp.positive_semidefinite_kernels.ExponentiatedQuadratic(),\n",
        "                                                    index_points=self.input_placeholder))\n",
        "                \n",
        "                self.posteriors.append(tfd.VariationalGaussianProcess(kernel=self.kernel,\n",
        "                                                                    index_points=self.input_placeholder,\n",
        "                                                                    inducing_index_points=self.inducing_ind_pts,\n",
        "                                                                    variational_inducing_observations_loc=self.variational_ind_obs_loc,\n",
        "                                                                    variational_inducing_observations_scale=self.variational_ind_obs_scale))\n",
        "\n",
        "    def _sample(self,sess):\n",
        "        samples=[]\n",
        "        for posterior in self.posteriors:\n",
        "            samples.append(posterior.sample())\n",
        "        return samples\n",
        "    \n",
        "    def update_prior(self,sess):\n",
        "        for i in range(len(self.priors)):\n",
        "            self.priors[i]= self.posteriors[i]\n",
        "\n"
      ],
      "execution_count": 0,
      "outputs": []
    },
    {
      "cell_type": "code",
      "metadata": {
        "colab_type": "code",
        "id": "fAQf7y95L76D",
        "colab": {}
      },
      "source": [
        "class DGP:\n",
        "    def __init__(self, X, Y, num_hidden_layers=2, latent_size=1):\n",
        "        global DGP_count\n",
        "        DGP_count+=1\n",
        "\n",
        "        global layer_cont\n",
        "        layer_count=0\n",
        "\n",
        "        input_size=X.shape[1]\n",
        "        output_size=Y.shape[1]\n",
        "\n",
        "        self.input_size=input_size\n",
        "        self.output_size=output_size\n",
        "        self.num_hidden_layers=num_hidden_layers\n",
        "        self.latent_size=latent_size\n",
        "\n",
        "        self.X=X\n",
        "        self.Y=Y\n",
        "\n",
        "        self.layers=[]\n",
        "        self.xs=[]\n",
        "        self.ys=[]\n",
        "        \n",
        "        self.sess=tf.Session()\n",
        "\n",
        "        self.build_model(self.sess)\n",
        "        \n",
        "        self.input_placeholder=tf.placeholder(dtype,[None,self.input_size],name=\"DGP_input\")\n",
        "        self.output_placeholder=tf.placeholder(dtype,[None,self.output_size],name=\"DGP_output\")\n",
        "        \n",
        "        self.loss_ = abs(self.loss(self.sess))\n",
        "        \n",
        "        ## learning rate from the paper\n",
        "        self.optimizer=tf.train.AdamOptimizer(learning_rate=0.01)\n",
        "        self.train_op=self.optimizer.minimize(self.loss_)\n",
        "            \n",
        "        self.sess.run(tf.initialize_all_variables())  \n",
        "\n",
        "    def build_model(self,sess):\n",
        "        self.layers.append(Layer(sess,self.input_size,self.latent_size,self.output_size))\n",
        "        for i in range(self.num_hidden_layers):\n",
        "            self.layers.append(Layer(sess,self.latent_size,self.latent_size,self.output_size))\n",
        "        self.layers.append(Layer(sess,self.latent_size,self.output_size,self.output_size))\n",
        "    \n",
        "    def loss(self,sess):\n",
        "        ################################################\n",
        "        ##\n",
        "        ##   (Equation 17 - Doubly stochastic DGP paper)\n",
        "        ##\n",
        "        ###############################################\n",
        "        loss=0.0\n",
        "        kl_term=0.0\n",
        "        k=0\n",
        "        for layer in self.layers:\n",
        "            print(k)\n",
        "            k+=1\n",
        "            for i in range(layer.output_size):\n",
        "                kl=layer.posteriors[i].kl_divergence(layer.priors[i])\n",
        "                kl_term+=tf.reduce_mean(kl)\n",
        "            posteriors=layer.posteriors\n",
        "        lh_term=0.0\n",
        "        for posterior in posteriors:\n",
        "            lh=posterior.log_prob(self.Y)\n",
        "            lh=tf.reduce_sum(lh,axis=-1)\n",
        "            lh_term=tf.reduce_mean(lh)\n",
        "        loss = lh_term - kl_term\n",
        "        return loss\n",
        "            \n",
        "    def train(self,niter=20000):\n",
        "        for i in range(niter):\n",
        "            x=self.X\n",
        "            feed_dict={}\n",
        "            for j in range(len(self.layers)):\n",
        "                feed_dict[self.layers[j].input_placeholder]=x\n",
        "                self.sample=self.layers[j]._sample(self.sess)\n",
        "                x=self.sess.run(self.sample,feed_dict={self.layers[j].input_placeholder:x})\n",
        "                x=np.array(x).T\n",
        "            loss,_=self.sess.run([self.loss_,self.train_op],feed_dict=feed_dict)\n",
        "            self.plot_loss(i,loss)\n",
        "            for layer in self.layers:\n",
        "                layer.update_prior(self.sess)\n",
        "            \n",
        "    def plot_loss(self,x,y):\n",
        "        if len(self.xs)==0:\n",
        "            fig=plt.figure()\n",
        "        self.xs.append(x)\n",
        "        self.ys.append(y)\n",
        "        clear_output(wait=True)\n",
        "        plt.plot(self.xs,self.ys,label='training loss')\n",
        "        plt.xlabel(\"Number of iterations\")\n",
        "        plt.ylabel(\"loss\")\n",
        "        plt.legend()\n",
        "        plt.show()\n",
        "        \n",
        "    def predict(self,X):\n",
        "        Y=[]\n",
        "        f_i=x\n",
        "        count=1\n",
        "        for layer in self.layers:\n",
        "            f_i=f_i.reshape((-1,1))\n",
        "            feed_dict={layer.input_placeholder:f_i}\n",
        "            for i in range(layer.output_size):\n",
        "                ################################################\n",
        "                ##\n",
        "                ##   (Equation 15 - Doubly stochastic DGP paper)\n",
        "                ##\n",
        "                ################################################\n",
        "\n",
        "                posterior=layer.posteriors[i]\n",
        "                mean=posterior.mean()\n",
        "                covariance=posterior.scale.matmul(posterior.scale.to_dense(), adjoint_arg=True)\n",
        "                scale=posterior.scale.to_dense()\n",
        "                m,cov,s=self.sess.run([mean,covariance,scale],feed_dict)\n",
        "#                 cov=np.nan_to_num(cov)\n",
        "                print(s)\n",
        "                first_term=m\n",
        "                size=m.size\n",
        "                k=np.eye(size,dtype=np.float64)\n",
        "                z=np.zeros(size,dtype=np.float64)\n",
        "                e=np.random.multivariate_normal(z,k)\n",
        "                sqr=np.sqrt(cov)\n",
        "                print(sqr)\n",
        "                # TODO check sampe's variance in variational GP class\n",
        "                second_term= np.dot(sqr,e)\n",
        "                \n",
        "                layer_pred=first_term + second_term\n",
        "                f_i=layer_pred\n",
        "\n",
        "            count+=1\n",
        "            print(\"f_i\",f_i)\n",
        "        Y=f_i\n",
        "        return Y\n"
      ],
      "execution_count": 0,
      "outputs": []
    },
    {
      "cell_type": "code",
      "metadata": {
        "colab_type": "code",
        "id": "A3GnCCbZsVLY",
        "outputId": "b0262d6b-ca22-47e6-ea24-007861c47a7b",
        "colab": {
          "base_uri": "https://localhost:8080/",
          "height": 938
        }
      },
      "source": [
        "tf.reset_default_graph()\n",
        "print(x.shape)\n",
        "x=x.reshape((-1,1))\n",
        "y=y.reshape((-1,1))"
      ],
      "execution_count": 0,
      "outputs": [
        {
          "output_type": "stream",
          "text": [
            "(200, 1)\n"
          ],
          "name": "stdout"
        }
      ]
    },
    {
      "cell_type": "code",
      "metadata": {
        "id": "fTM8FQWe4Fs9",
        "colab_type": "code",
        "colab": {},
        "outputId": "adeeb4d9-9b1c-435f-a0ea-9e689fd98d98"
      },
      "source": [
        "dgp=DGP(x,y)"
      ],
      "execution_count": 0,
      "outputs": [
        {
          "output_type": "stream",
          "text": [
            "0\n",
            "1\n",
            "2\n",
            "3\n"
          ],
          "name": "stdout"
        },
        {
          "output_type": "stream",
          "text": [
            "/home/ali/.local/lib/python3.6/site-packages/tensorflow_probability/python/distributions/gaussian_process.py:303: UserWarning: Unable to detect statically whether the number of index_points is 1. As a result, defaulting to treating the marginal GP at `index_points` as a multivariate Gaussian. This makes some methods, like `cdf` unavailable.\n",
            "  'Unable to detect statically whether the number of index_points is '\n"
          ],
          "name": "stderr"
        }
      ]
    },
    {
      "cell_type": "code",
      "metadata": {
        "colab_type": "code",
        "id": "OiVB8Xyxvxl-",
        "colab": {},
        "outputId": "1cd1d12e-953e-4f55-9c77-7afb8c9290b6"
      },
      "source": [
        "dgp.train(200)"
      ],
      "execution_count": 0,
      "outputs": [
        {
          "output_type": "display_data",
          "data": {
            "image/png": "[encoded data removed]",
            "text/plain": [
              "<Figure size 432x288 with 1 Axes>"
            ]
          },
          "metadata": {
            "tags": [],
            "needs_background": "light"
          }
        }
      ]
    },
    {
      "cell_type": "code",
      "metadata": {
        "scrolled": true,
        "id": "3Kv1UjUi4FtC",
        "colab_type": "code",
        "colab": {},
        "outputId": "59bd9e3c-0c91-4ce0-cf32-4a039f5de461"
      },
      "source": [
        "print(dgp.predict(x))"
      ],
      "execution_count": 0,
      "outputs": [
        {
          "output_type": "stream",
          "text": [
            "[[ 3.97976008e+00  0.00000000e+00  0.00000000e+00 ...  0.00000000e+00\n",
            "   0.00000000e+00  0.00000000e+00]\n",
            " [ 3.44964339e+00  1.08942025e-01  0.00000000e+00 ...  0.00000000e+00\n",
            "   0.00000000e+00  0.00000000e+00]\n",
            " [ 2.95477781e+00  2.02601534e-01  3.83643200e-03 ...  0.00000000e+00\n",
            "   0.00000000e+00  0.00000000e+00]\n",
            " ...\n",
            " [-2.46412584e+00 -1.09564464e+00  7.12720156e-01 ...  1.16846072e-03\n",
            "   0.00000000e+00  0.00000000e+00]\n",
            " [-2.82477029e+00 -1.36469253e+00  8.69749815e-01 ...  3.62701726e-04\n",
            "   1.16746761e-03  0.00000000e+00]\n",
            " [-3.20643877e+00 -1.65998071e+00  1.04048096e+00 ...  4.17617142e-04\n",
            "   3.60423903e-04  1.16648969e-03]]\n",
            "[[3.97976008 3.7052332  3.42918456 ...        nan        nan        nan]\n",
            " [3.7052332  3.4513632  3.19609161 ...        nan        nan        nan]\n",
            " [3.42918456 3.19609161 2.96171808 ...        nan        nan        nan]\n",
            " ...\n",
            " [       nan        nan        nan ... 2.96173097 3.19610584 3.42920013]\n",
            " [       nan        nan        nan ... 3.19610584 3.45137886 3.70525028]\n",
            " [       nan        nan        nan ... 3.42920013 3.70525028 3.97977866]]\n",
            "f_i [nan nan nan nan nan nan nan nan nan nan nan nan nan nan nan nan nan nan\n",
            " nan nan nan nan nan nan nan nan nan nan nan nan nan nan nan nan nan nan\n",
            " nan nan nan nan nan nan nan nan nan nan nan nan nan nan nan nan nan nan\n",
            " nan nan nan nan nan nan nan nan nan nan nan nan nan nan nan nan nan nan\n",
            " nan nan nan nan nan nan nan nan nan nan nan nan nan nan nan nan nan nan\n",
            " nan nan nan nan nan nan nan nan nan nan nan nan nan nan nan nan nan nan\n",
            " nan nan nan nan nan nan nan nan nan nan nan nan nan nan nan nan nan nan\n",
            " nan nan nan nan nan nan nan nan nan nan nan nan nan nan nan nan nan nan\n",
            " nan nan nan nan nan nan nan nan nan nan nan nan nan nan nan nan nan nan\n",
            " nan nan nan nan nan nan nan nan nan nan nan nan nan nan nan nan nan nan\n",
            " nan nan nan nan nan nan nan nan nan nan nan nan nan nan nan nan nan nan\n",
            " nan nan]\n"
          ],
          "name": "stdout"
        },
        {
          "output_type": "stream",
          "text": [
            "/home/ali/.local/lib/python3.6/site-packages/ipykernel_launcher.py:121: RuntimeWarning: invalid value encountered in sqrt\n"
          ],
          "name": "stderr"
        },
        {
          "output_type": "stream",
          "text": [
            "[[nan  0.  0. ...  0.  0.  0.]\n",
            " [nan nan  0. ...  0.  0.  0.]\n",
            " [nan nan nan ...  0.  0.  0.]\n",
            " ...\n",
            " [nan nan nan ... nan  0.  0.]\n",
            " [nan nan nan ... nan nan  0.]\n",
            " [nan nan nan ... nan nan nan]]\n",
            "[[nan nan nan ... nan nan nan]\n",
            " [nan nan nan ... nan nan nan]\n",
            " [nan nan nan ... nan nan nan]\n",
            " ...\n",
            " [nan nan nan ... nan nan nan]\n",
            " [nan nan nan ... nan nan nan]\n",
            " [nan nan nan ... nan nan nan]]\n",
            "f_i [nan nan nan nan nan nan nan nan nan nan nan nan nan nan nan nan nan nan\n",
            " nan nan nan nan nan nan nan nan nan nan nan nan nan nan nan nan nan nan\n",
            " nan nan nan nan nan nan nan nan nan nan nan nan nan nan nan nan nan nan\n",
            " nan nan nan nan nan nan nan nan nan nan nan nan nan nan nan nan nan nan\n",
            " nan nan nan nan nan nan nan nan nan nan nan nan nan nan nan nan nan nan\n",
            " nan nan nan nan nan nan nan nan nan nan nan nan nan nan nan nan nan nan\n",
            " nan nan nan nan nan nan nan nan nan nan nan nan nan nan nan nan nan nan\n",
            " nan nan nan nan nan nan nan nan nan nan nan nan nan nan nan nan nan nan\n",
            " nan nan nan nan nan nan nan nan nan nan nan nan nan nan nan nan nan nan\n",
            " nan nan nan nan nan nan nan nan nan nan nan nan nan nan nan nan nan nan\n",
            " nan nan nan nan nan nan nan nan nan nan nan nan nan nan nan nan nan nan\n",
            " nan nan]\n",
            "[[nan  0.  0. ...  0.  0.  0.]\n",
            " [nan nan  0. ...  0.  0.  0.]\n",
            " [nan nan nan ...  0.  0.  0.]\n",
            " ...\n",
            " [nan nan nan ... nan  0.  0.]\n",
            " [nan nan nan ... nan nan  0.]\n",
            " [nan nan nan ... nan nan nan]]\n",
            "[[nan nan nan ... nan nan nan]\n",
            " [nan nan nan ... nan nan nan]\n",
            " [nan nan nan ... nan nan nan]\n",
            " ...\n",
            " [nan nan nan ... nan nan nan]\n",
            " [nan nan nan ... nan nan nan]\n",
            " [nan nan nan ... nan nan nan]]\n",
            "f_i [nan nan nan nan nan nan nan nan nan nan nan nan nan nan nan nan nan nan\n",
            " nan nan nan nan nan nan nan nan nan nan nan nan nan nan nan nan nan nan\n",
            " nan nan nan nan nan nan nan nan nan nan nan nan nan nan nan nan nan nan\n",
            " nan nan nan nan nan nan nan nan nan nan nan nan nan nan nan nan nan nan\n",
            " nan nan nan nan nan nan nan nan nan nan nan nan nan nan nan nan nan nan\n",
            " nan nan nan nan nan nan nan nan nan nan nan nan nan nan nan nan nan nan\n",
            " nan nan nan nan nan nan nan nan nan nan nan nan nan nan nan nan nan nan\n",
            " nan nan nan nan nan nan nan nan nan nan nan nan nan nan nan nan nan nan\n",
            " nan nan nan nan nan nan nan nan nan nan nan nan nan nan nan nan nan nan\n",
            " nan nan nan nan nan nan nan nan nan nan nan nan nan nan nan nan nan nan\n",
            " nan nan nan nan nan nan nan nan nan nan nan nan nan nan nan nan nan nan\n",
            " nan nan]\n",
            "[[nan  0.  0. ...  0.  0.  0.]\n",
            " [nan nan  0. ...  0.  0.  0.]\n",
            " [nan nan nan ...  0.  0.  0.]\n",
            " ...\n",
            " [nan nan nan ... nan  0.  0.]\n",
            " [nan nan nan ... nan nan  0.]\n",
            " [nan nan nan ... nan nan nan]]\n",
            "[[nan nan nan ... nan nan nan]\n",
            " [nan nan nan ... nan nan nan]\n",
            " [nan nan nan ... nan nan nan]\n",
            " ...\n",
            " [nan nan nan ... nan nan nan]\n",
            " [nan nan nan ... nan nan nan]\n",
            " [nan nan nan ... nan nan nan]]\n",
            "f_i [nan nan nan nan nan nan nan nan nan nan nan nan nan nan nan nan nan nan\n",
            " nan nan nan nan nan nan nan nan nan nan nan nan nan nan nan nan nan nan\n",
            " nan nan nan nan nan nan nan nan nan nan nan nan nan nan nan nan nan nan\n",
            " nan nan nan nan nan nan nan nan nan nan nan nan nan nan nan nan nan nan\n",
            " nan nan nan nan nan nan nan nan nan nan nan nan nan nan nan nan nan nan\n",
            " nan nan nan nan nan nan nan nan nan nan nan nan nan nan nan nan nan nan\n",
            " nan nan nan nan nan nan nan nan nan nan nan nan nan nan nan nan nan nan\n",
            " nan nan nan nan nan nan nan nan nan nan nan nan nan nan nan nan nan nan\n",
            " nan nan nan nan nan nan nan nan nan nan nan nan nan nan nan nan nan nan\n",
            " nan nan nan nan nan nan nan nan nan nan nan nan nan nan nan nan nan nan\n",
            " nan nan nan nan nan nan nan nan nan nan nan nan nan nan nan nan nan nan\n",
            " nan nan]\n",
            "[nan nan nan nan nan nan nan nan nan nan nan nan nan nan nan nan nan nan\n",
            " nan nan nan nan nan nan nan nan nan nan nan nan nan nan nan nan nan nan\n",
            " nan nan nan nan nan nan nan nan nan nan nan nan nan nan nan nan nan nan\n",
            " nan nan nan nan nan nan nan nan nan nan nan nan nan nan nan nan nan nan\n",
            " nan nan nan nan nan nan nan nan nan nan nan nan nan nan nan nan nan nan\n",
            " nan nan nan nan nan nan nan nan nan nan nan nan nan nan nan nan nan nan\n",
            " nan nan nan nan nan nan nan nan nan nan nan nan nan nan nan nan nan nan\n",
            " nan nan nan nan nan nan nan nan nan nan nan nan nan nan nan nan nan nan\n",
            " nan nan nan nan nan nan nan nan nan nan nan nan nan nan nan nan nan nan\n",
            " nan nan nan nan nan nan nan nan nan nan nan nan nan nan nan nan nan nan\n",
            " nan nan nan nan nan nan nan nan nan nan nan nan nan nan nan nan nan nan\n",
            " nan nan]\n"
          ],
          "name": "stdout"
        }
      ]
    },
    {
      "cell_type": "code",
      "metadata": {
        "id": "e_tI2W0i4FtF",
        "colab_type": "code",
        "colab": {}
      },
      "source": [
        ""
      ],
      "execution_count": 0,
      "outputs": []
    }
  ]
}